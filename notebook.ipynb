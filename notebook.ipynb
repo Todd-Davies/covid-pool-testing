{
 "cells": [
  {
   "cell_type": "code",
   "execution_count": 67,
   "metadata": {},
   "outputs": [],
   "source": [
    "# Comptute the expected rate of positive tests based on South Korea, which\n",
    "# does extensive testing and publishes results daily\n",
    "# Source: https://www.cdc.go.kr/board/board.es?mid=a30402000000&bid=0030"
   ]
  },
  {
   "cell_type": "code",
   "execution_count": 68,
   "metadata": {},
   "outputs": [
    {
     "name": "stdout",
     "output_type": "stream",
     "text": [
      "0.024446221349514415\n"
     ]
    }
   ],
   "source": [
    "# Based on data from March 31st\n",
    "total_tests = 395194\n",
    "confirmed_tests = 9661\n",
    "expected_rate = confirmed_tests / total_tests\n",
    "print(expected_rate)"
   ]
  },
  {
   "cell_type": "code",
   "execution_count": 69,
   "metadata": {},
   "outputs": [
    {
     "name": "stdout",
     "output_type": "stream",
     "text": [
      "Ideal pool size: 28\n"
     ]
    }
   ],
   "source": [
    "import math\n",
    "\n",
    "# Compute the optimum size of the pool to get a 50% positive rate\n",
    "pool_size = math.log(0.5, 1 - expected_rate)\n",
    "# Round the answer down\n",
    "pool_size = math.floor(pool_size)\n",
    "print(f'Ideal pool size: {pool_size}')"
   ]
  },
  {
   "cell_type": "code",
   "execution_count": 70,
   "metadata": {},
   "outputs": [],
   "source": [
    "import random\n",
    "\n",
    "# Generates a random set of samples, each with a 'expected_rate' chance of being positive\n",
    "def generate_samples(k):\n",
    "    return random.choices([True, False], [expected_rate, 1 - expected_rate], k=k)\n"
   ]
  },
  {
   "cell_type": "code",
   "execution_count": 92,
   "metadata": {},
   "outputs": [],
   "source": [
    "# Find how many tests we'll need to do for a given pool of people\n",
    "def count_tests(pool):\n",
    "    if len(pool) == 3: # With only three people left, we can optimise\n",
    "        first_two = [pool[0], pool[1]] # Test the first two\n",
    "        if any(first_two): # If they're positive, we need to test them, and the third\n",
    "            return count_tests(first_two) + 2\n",
    "        else: # If it was negative, assume the third one to be positive\n",
    "            return 1\n",
    "    if len(pool) == 2: # With only two person in the pool...\n",
    "        if pool[0]: # If the first one is positive, we also need to test the other\n",
    "            return 2\n",
    "        else:       # Otherwise, we can assume the second to be positive\n",
    "            return 1;\n",
    "    if any(pool):      # If any of the samples are true, we need to test further\n",
    "        first_half = pool[:len(pool)//2]  # Get the first half\n",
    "        second_half = pool[len(pool)//2:] # Get the second half\n",
    "        # Return this test, plus any tests that were done by the other halves\n",
    "        return 1 + count_tests(first_half) + count_tests(second_half)\n",
    "    # The pool was negative, we just needed this one test.\n",
    "    return 1\n",
    "        "
   ]
  },
  {
   "cell_type": "code",
   "execution_count": 93,
   "metadata": {},
   "outputs": [
    {
     "name": "stdout",
     "output_type": "stream",
     "text": [
      "Expected number of tests per pool: 5.9\n"
     ]
    }
   ],
   "source": [
    "# Lets find the expected number of tests empirically by running 1 million tests\n",
    "cumulative_tests = 0\n",
    "iterations = 1000000\n",
    "\n",
    "for i in range(0, iterations):\n",
    "    cumulative_tests += count_tests(generate_samples(pool_size))\n",
    "\n",
    "expected_tests = cumulative_tests / iterations\n",
    "print(f'Expected number of tests per pool: {expected_tests:.1f}')"
   ]
  },
  {
   "cell_type": "code",
   "execution_count": 94,
   "metadata": {},
   "outputs": [
    {
     "name": "stdout",
     "output_type": "stream",
     "text": [
      "Reduction in the number of test kits required: 79.0%\n",
      "4.77x more people can be tested\n"
     ]
    }
   ],
   "source": [
    "# This means that for every 'pool_size' people, we need only 'expected_tests' tests\n",
    "saved_tests = pool_size - expected_tests\n",
    "reduction = 1 / pool_size * saved_tests\n",
    "reduction_percent = reduction * 100\n",
    "print(f'Reduction in the number of test kits required: {reduction_percent:.1f}%')\n",
    "times_more_results = 1 / (1 - reduction)\n",
    "print(f'{times_more_results:.2f}x more people can be tested')"
   ]
  },
  {
   "cell_type": "code",
   "execution_count": null,
   "metadata": {},
   "outputs": [],
   "source": []
  }
 ],
 "metadata": {
  "kernelspec": {
   "display_name": "Python 3",
   "language": "python",
   "name": "python3"
  },
  "language_info": {
   "codemirror_mode": {
    "name": "ipython",
    "version": 3
   },
   "file_extension": ".py",
   "mimetype": "text/x-python",
   "name": "python",
   "nbconvert_exporter": "python",
   "pygments_lexer": "ipython3",
   "version": "3.7.5"
  }
 },
 "nbformat": 4,
 "nbformat_minor": 2
}
